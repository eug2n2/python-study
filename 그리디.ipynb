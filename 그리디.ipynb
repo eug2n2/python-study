{
 "cells": [
  {
   "cell_type": "code",
   "execution_count": 28,
   "id": "4b2c35a3",
   "metadata": {},
   "outputs": [
    {
     "name": "stdout",
     "output_type": "stream",
     "text": [
      "5 7 2\n",
      "3 4 3 4 3\n"
     ]
    }
   ],
   "source": [
    "# 챕터 3 그리디 알고리즘\n",
    "#큰 수의 법칙 \n",
    "N,M,K= map(int,input().split())\n",
    "a= list(map(int,input().split()))\n"
   ]
  },
  {
   "cell_type": "code",
   "execution_count": 29,
   "id": "d936fbbf",
   "metadata": {},
   "outputs": [],
   "source": [
    "f= max(a)\n",
    "a.remove(f)"
   ]
  },
  {
   "cell_type": "code",
   "execution_count": 30,
   "id": "14d3c3b3",
   "metadata": {},
   "outputs": [
    {
     "name": "stdout",
     "output_type": "stream",
     "text": [
      "28\n"
     ]
    }
   ],
   "source": [
    "b= max(a)\n",
    "set= f*K+b\n",
    "set=int(set)\n",
    "result= set*(M//(K+1))+f*(M%(K+1))\n",
    "print(result)"
   ]
  },
  {
   "cell_type": "code",
   "execution_count": 36,
   "id": "a7f7cedf",
   "metadata": {},
   "outputs": [
    {
     "name": "stdout",
     "output_type": "stream",
     "text": [
      "3 3\n",
      "3 1 2 \n",
      "4 1 4\n",
      "2 2 2\n"
     ]
    },
    {
     "data": {
      "text/plain": [
       "2"
      ]
     },
     "execution_count": 36,
     "metadata": {},
     "output_type": "execute_result"
    }
   ],
   "source": [
    "# 숫자 카드게임\n",
    "N,M= map(int,input().split())\n",
    "result=[]\n",
    "a=[]\n",
    "for i in range(N):\n",
    "    a.append(list(map(int,input().split())))\n",
    "    b = min(a[i])\n",
    "    result.append(b)\n",
    "\n",
    "max(result)"
   ]
  },
  {
   "cell_type": "code",
   "execution_count": 64,
   "id": "b20723a1",
   "metadata": {},
   "outputs": [
    {
     "name": "stdout",
     "output_type": "stream",
     "text": [
      "17 4\n",
      "3\n"
     ]
    }
   ],
   "source": [
    "#1이 될 때까지\n",
    "N,K= map(int,input().split())\n",
    "i=0\n",
    "\n",
    "while N!=1:\n",
    "    if N%K ==0:\n",
    "        N= N/K\n",
    "        i += 1 \n",
    "    else:\n",
    "        N = N-1\n",
    "        i += 1 \n",
    "\n",
    "print(i)"
   ]
  },
  {
   "cell_type": "code",
   "execution_count": 21,
   "id": "e6ee1688",
   "metadata": {},
   "outputs": [
    {
     "name": "stdout",
     "output_type": "stream",
     "text": [
      "6\n"
     ]
    }
   ],
   "source": [
    "# A01 모험가 길드 \n",
    "N= input()\n",
    "N =int(N)"
   ]
  },
  {
   "cell_type": "code",
   "execution_count": 22,
   "id": "14213269",
   "metadata": {},
   "outputs": [
    {
     "name": "stdout",
     "output_type": "stream",
     "text": [
      "4 3 3 3 3 2\n",
      "2\n"
     ]
    }
   ],
   "source": [
    "a= list(map(int,input().split()))\n",
    "i=1 #그룹 수 \n",
    "while True:\n",
    "    if len (a)==0: #max를 계산할 수 없으므로 break \n",
    "        break\n",
    "    elif N-max(a) < len(a):\n",
    "        for _ in range (max(a)): \n",
    "            a. remove(max(a))\n",
    "        i+=1\n",
    "    else:\n",
    "        break\n",
    "print(i)"
   ]
  },
  {
   "cell_type": "code",
   "execution_count": 44,
   "id": "61a19731",
   "metadata": {},
   "outputs": [
    {
     "name": "stdout",
     "output_type": "stream",
     "text": [
      "567\n"
     ]
    }
   ],
   "source": [
    "# A02 곱하기 혹은 더하기 \n",
    "\n",
    "k = input()  # 사용자로부터 띄어쓰기 없이 숫자를 입력받음\n",
    "a = [int(i) for i in k]   #공백없는 숫자를 리스트로 변환 "
   ]
  },
  {
   "cell_type": "code",
   "execution_count": 45,
   "id": "a4da3345",
   "metadata": {},
   "outputs": [
    {
     "name": "stdout",
     "output_type": "stream",
     "text": [
      "210\n"
     ]
    }
   ],
   "source": [
    "result=a[0]\n",
    "    \n",
    "for i in range(1,len(a)):\n",
    "    if result == 0 or a[i]==0:\n",
    "        result = result+ a[i]\n",
    "    else:\n",
    "        result = result * a[i]\n",
    "print(result)"
   ]
  },
  {
   "cell_type": "code",
   "execution_count": 14,
   "id": "e34a52f1",
   "metadata": {},
   "outputs": [
    {
     "name": "stdout",
     "output_type": "stream",
     "text": [
      "1010\n"
     ]
    }
   ],
   "source": [
    "# 문자열 뒤집기 \n",
    "k =input()\n",
    "a =[int(i) for i in k]"
   ]
  },
  {
   "cell_type": "code",
   "execution_count": 15,
   "id": "be6004f0",
   "metadata": {},
   "outputs": [
    {
     "name": "stdout",
     "output_type": "stream",
     "text": [
      "2\n"
     ]
    }
   ],
   "source": [
    "result=[]\n",
    "if a.count(1)<= a.count(0):\n",
    "    for i in range (len(a)):\n",
    "        if a[i] ==1:\n",
    "            result.append(i)\n",
    "else:\n",
    "    for i in range (len(a)):\n",
    "        if a[i] ==0:\n",
    "            result.append(i)\n",
    "if len(result)==0:\n",
    "    answer=0\n",
    "else:\n",
    "    answer=1\n",
    "    for i in range(len(result)-1):\n",
    "        if result[i+1] - result[i] !=1:\n",
    "            answer += 1\n",
    "\n",
    "print(answer)     "
   ]
  },
  {
   "cell_type": "code",
   "execution_count": 1,
   "id": "8e01d77b",
   "metadata": {},
   "outputs": [
    {
     "name": "stdout",
     "output_type": "stream",
     "text": [
      "5\n",
      "3 2 1 1 9\n"
     ]
    }
   ],
   "source": [
    "# A04 만들 수 없는 금액 :못 풀음 \n",
    "N = int(input())\n",
    "a = list(map(int, input().split()))"
   ]
  },
  {
   "cell_type": "code",
   "execution_count": 8,
   "id": "beb58b3f",
   "metadata": {},
   "outputs": [
    {
     "name": "stdout",
     "output_type": "stream",
     "text": [
      "8 5\n",
      "1 5 4 3 2 4 5 2\n"
     ]
    }
   ],
   "source": [
    "# A 05 볼링공 고르기 \n",
    "N,M= map(int,input().split())\n",
    "a = list(map(int, input().split()))"
   ]
  },
  {
   "cell_type": "code",
   "execution_count": 9,
   "id": "b694fc50",
   "metadata": {},
   "outputs": [
    {
     "name": "stdout",
     "output_type": "stream",
     "text": [
      "25\n"
     ]
    }
   ],
   "source": [
    "result=0\n",
    "for i in range(N):\n",
    "    for j in range(i,N):\n",
    "        if a[i] != a[j]:\n",
    "            result+=1\n",
    "print(result)"
   ]
  },
  {
   "cell_type": "code",
   "execution_count": 13,
   "id": "4cc41095",
   "metadata": {},
   "outputs": [
    {
     "name": "stdout",
     "output_type": "stream",
     "text": [
      "[(3, 1)]\n",
      "[(1, 2), (3, 1)]\n",
      "[(1, 2), (3, 1), (2, 3)]\n",
      "[(2, 3), (3, 1)] 2 1 3\n",
      "[(3, 1)] 1 2 5\n",
      "[(3, 1)]\n"
     ]
    },
    {
     "data": {
      "text/plain": [
       "1"
      ]
     },
     "execution_count": 13,
     "metadata": {},
     "output_type": "execute_result"
    }
   ],
   "source": [
    "# A 06 무지의 먹방 라이브 \n",
    "import heapq\n",
    "\n",
    "def solution(food_times, k):\n",
    "    if sum(food_times) <= k: # 전체 음식을 먹는 시간보다 k가 크거나 같으면 -1\n",
    "        return -1\n",
    "    \n",
    "    q = [] \n",
    "    for i in range(len(food_times)):\n",
    "        heapq.heappush(q, (food_times[i], i+1)) # (음식시간, 음식번호)를 우선순위 큐에 삽입\n",
    "        print(q)\n",
    "    sum_value = 0 #  먹기 위해 사용한 시간\n",
    "    previous = 0 # 직전에 다 먹은 음식 시간\n",
    "    length = len(food_times) # 남은 음식의 개수\n",
    "    \n",
    "    # \"먹기 위해 사용한 시간 + (현재 음식 시간 - 이전 음식 시간) * 현재 남은 음식 개수\" 와 \"k\" 비교\n",
    "    while sum_value + ((q[0][0] - previous) * length) <= k:\n",
    "        now = heapq.heappop(q)[0] # 현재 음식 시간\n",
    "        sum_value += (now - previous) * length \n",
    "        length -= 1 # 다 먹은 음식 제외\n",
    "        previous = now # 이전 음식을 현재 음식으로\n",
    "        print(q,length,previous, sum_value)\n",
    "    result = sorted(q, key = lambda x: x[1]) # 음식 번호 기준으로 정렬하여 저장\n",
    "    print(result)    \n",
    "    return result[(k - sum_value) % length][1]\n",
    "           \n",
    "solution([3,1,2],5)"
   ]
  },
  {
   "cell_type": "code",
   "execution_count": null,
   "id": "af0166b4",
   "metadata": {},
   "outputs": [],
   "source": []
  }
 ],
 "metadata": {
  "kernelspec": {
   "display_name": "Python 3 (ipykernel)",
   "language": "python",
   "name": "python3"
  },
  "language_info": {
   "codemirror_mode": {
    "name": "ipython",
    "version": 3
   },
   "file_extension": ".py",
   "mimetype": "text/x-python",
   "name": "python",
   "nbconvert_exporter": "python",
   "pygments_lexer": "ipython3",
   "version": "3.7.11"
  }
 },
 "nbformat": 4,
 "nbformat_minor": 5
}
